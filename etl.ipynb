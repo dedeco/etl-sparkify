{
 "cells": [
  {
   "cell_type": "markdown",
   "metadata": {
    "editable": true
   },
   "source": [
    "# ETL Processes\n",
    "Use this notebook to develop the ETL process for each of your tables before completing the `etl.py` file to load the whole datasets."
   ]
  },
  {
   "cell_type": "code",
   "execution_count": 1,
   "metadata": {
    "editable": true
   },
   "outputs": [],
   "source": [
    "import os\n",
    "import glob\n",
    "import psycopg2\n",
    "import pandas as pd\n",
    "from sql_queries import *"
   ]
  },
  {
   "cell_type": "code",
   "execution_count": 2,
   "metadata": {
    "editable": true
   },
   "outputs": [],
   "source": [
    "conn = psycopg2.connect(\"host=127.0.0.1 dbname=sparkifydb user=student password=student\")\n",
    "cur = conn.cursor()"
   ]
  },
  {
   "cell_type": "code",
   "execution_count": 3,
   "metadata": {
    "editable": true
   },
   "outputs": [],
   "source": [
    "def get_files(filepath):\n",
    "    all_files = []\n",
    "    for root, dirs, files in os.walk(filepath):\n",
    "        files = glob.glob(os.path.join(root,'*.json'))\n",
    "        for f in files :\n",
    "            all_files.append(os.path.abspath(f))\n",
    "    \n",
    "    return all_files"
   ]
  },
  {
   "cell_type": "markdown",
   "metadata": {
    "editable": true
   },
   "source": [
    "# Process `song_data`\n",
    "In this first part, you'll perform ETL on the first dataset, `song_data`, to create the `songs` and `artists` dimensional tables.\n",
    "\n",
    "Let's perform ETL on a single song file and load a single record into each table to start.\n",
    "- Use the `get_files` function provided above to get a list of all song JSON files in `data/song_data`\n",
    "- Select the first song in this list\n",
    "- Read the song file and view the data"
   ]
  },
  {
   "cell_type": "code",
   "execution_count": 4,
   "metadata": {
    "editable": true
   },
   "outputs": [],
   "source": [
    "song_files = get_files('./data/song_data/')"
   ]
  },
  {
   "cell_type": "code",
   "execution_count": 5,
   "metadata": {
    "editable": true
   },
   "outputs": [
    {
     "data": {
      "text/plain": [
       "'/home/workspace/data/song_data/A/A/A/TRAAAAW128F429D538.json'"
      ]
     },
     "execution_count": 5,
     "metadata": {},
     "output_type": "execute_result"
    }
   ],
   "source": [
    "song_files[0]"
   ]
  },
  {
   "cell_type": "code",
   "execution_count": 6,
   "metadata": {
    "editable": true
   },
   "outputs": [],
   "source": [
    "filepath = song_files[0]"
   ]
  },
  {
   "cell_type": "code",
   "execution_count": 7,
   "metadata": {
    "editable": true
   },
   "outputs": [
    {
     "data": {
      "text/html": [
       "<div>\n",
       "<style scoped>\n",
       "    .dataframe tbody tr th:only-of-type {\n",
       "        vertical-align: middle;\n",
       "    }\n",
       "\n",
       "    .dataframe tbody tr th {\n",
       "        vertical-align: top;\n",
       "    }\n",
       "\n",
       "    .dataframe thead th {\n",
       "        text-align: right;\n",
       "    }\n",
       "</style>\n",
       "<table border=\"1\" class=\"dataframe\">\n",
       "  <thead>\n",
       "    <tr style=\"text-align: right;\">\n",
       "      <th></th>\n",
       "      <th>artist_id</th>\n",
       "      <th>artist_latitude</th>\n",
       "      <th>artist_location</th>\n",
       "      <th>artist_longitude</th>\n",
       "      <th>artist_name</th>\n",
       "      <th>duration</th>\n",
       "      <th>num_songs</th>\n",
       "      <th>song_id</th>\n",
       "      <th>title</th>\n",
       "      <th>year</th>\n",
       "    </tr>\n",
       "  </thead>\n",
       "  <tbody>\n",
       "    <tr>\n",
       "      <th>0</th>\n",
       "      <td>ARD7TVE1187B99BFB1</td>\n",
       "      <td>NaN</td>\n",
       "      <td>California - LA</td>\n",
       "      <td>NaN</td>\n",
       "      <td>Casual</td>\n",
       "      <td>218.93179</td>\n",
       "      <td>1</td>\n",
       "      <td>SOMZWCG12A8C13C480</td>\n",
       "      <td>I Didn't Mean To</td>\n",
       "      <td>0</td>\n",
       "    </tr>\n",
       "  </tbody>\n",
       "</table>\n",
       "</div>"
      ],
      "text/plain": [
       "            artist_id  artist_latitude  artist_location  artist_longitude  \\\n",
       "0  ARD7TVE1187B99BFB1              NaN  California - LA               NaN   \n",
       "\n",
       "  artist_name   duration  num_songs             song_id             title  \\\n",
       "0      Casual  218.93179          1  SOMZWCG12A8C13C480  I Didn't Mean To   \n",
       "\n",
       "   year  \n",
       "0     0  "
      ]
     },
     "execution_count": 7,
     "metadata": {},
     "output_type": "execute_result"
    }
   ],
   "source": [
    "df = pd.read_json(filepath, lines=True)\n",
    "df.head()"
   ]
  },
  {
   "cell_type": "code",
   "execution_count": 8,
   "metadata": {
    "editable": true
   },
   "outputs": [
    {
     "data": {
      "text/plain": [
       "18"
      ]
     },
     "execution_count": 8,
     "metadata": {},
     "output_type": "execute_result"
    }
   ],
   "source": [
    "len('SOMZWCG12A8C13C480')"
   ]
  },
  {
   "cell_type": "markdown",
   "metadata": {
    "editable": true
   },
   "source": [
    "## #1: `songs` Table\n",
    "#### Extract Data for Songs Table\n",
    "- Select columns for song ID, title, artist ID, year, and duration\n",
    "- Use `df.values` to select just the values from the dataframe\n",
    "- Index to select the first (only) record in the dataframe\n",
    "- Convert the array to a list and set it to `song_data`"
   ]
  },
  {
   "cell_type": "code",
   "execution_count": 9,
   "metadata": {
    "editable": true
   },
   "outputs": [
    {
     "name": "stdout",
     "output_type": "stream",
     "text": [
      "[['SOMZWCG12A8C13C480' \"I Didn't Mean To\" 'ARD7TVE1187B99BFB1' 0 218.93179]]\n"
     ]
    }
   ],
   "source": [
    "# insert song record\n",
    "song_datas = df.filter(items=['song_id', 'title', 'artist_id', 'year', 'duration']).values\n",
    "print(song_datas)\n",
    "song_data = song_datas.tolist()"
   ]
  },
  {
   "cell_type": "markdown",
   "metadata": {
    "editable": true
   },
   "source": [
    "#### Insert Record into Song Table\n",
    "Implement the `song_table_insert` query in `sql_queries.py` and run the cell below to insert a record for this song into the `songs` table. Remember to run `create_tables.py` before running the cell below to ensure you've created/resetted the `songs` table in the sparkify database."
   ]
  },
  {
   "cell_type": "code",
   "execution_count": 10,
   "metadata": {
    "editable": true
   },
   "outputs": [
    {
     "name": "stdout",
     "output_type": "stream",
     "text": [
      "['SOMZWCG12A8C13C480' \"I Didn't Mean To\" 'ARD7TVE1187B99BFB1' 0 218.93179]\n",
      "['SOUDSGM12AC9618304' 'Insatiable (Instrumental Version)'\n",
      " 'ARNTLGG11E2835DDB9' 0 266.39628]\n",
      "['SOIAZJW12AB01853F1' 'Pink World' 'AR8ZCNI1187B9A069B' 1984 269.81832]\n",
      "['SOHKNRJ12A6701D1F8' 'Drop of Rain' 'AR10USD1187B99F3F1' 0 189.57016]\n",
      "['SOCIWDW12A8C13D406' 'Soul Deep' 'ARMJAGH1187FB546F3' 1969 148.03546]\n",
      "['SOYMRWW12A6D4FAB14' 'The Moon And I (Ordinary Day Album Version)'\n",
      " 'ARKFYS91187B98E58F' 0 267.7024]\n",
      "['SOMJBYD12A6D4F8557' 'Keepin It Real (Skit)' 'ARD0S291187B9B7BF5' 0\n",
      " 114.78159]\n",
      "['SOQHXMF12AB0182363' 'Young Boy Blues' 'ARGSJW91187B9B1D6B' 0 218.77506]\n",
      "['SONHOTT12A8C13493C' 'Something Girls' 'AR7G5I41187FB4CE6C' 1982 233.40363]\n",
      "['SOFSOCN12A8C143F5D' 'Face the Ashes' 'ARXR32B1187FB57099' 2007 209.60608]\n",
      "['SOXVLOJ12AB0189215' 'Amor De Cabaret' 'ARKRRTF1187B9984DA' 0 177.47546]\n",
      "['SOUQQEA12A8C134B1B' 'High Tide' 'ARIG6O41187B988BDD' 0 228.5971]\n",
      "['SOILPQQ12AB017E82A' 'Sohna Nee Sohna Data' 'AR1ZHYZ1187FB3C717' 0\n",
      " 599.24853]\n",
      "['SOHUOAP12A8AE488E9' 'Floating' 'ARD842G1187B997376' 1987 491.12771]\n",
      "['SOMUYGI12AB0188633' 'La Culpa' 'ARL7K851187B99ACD2' 0 226.35057]\n",
      "['SORAMLE12AB017C8B0' 'Auguri Cha Cha' 'ARHHO3O1187B989413' 0 191.84281]\n",
      "['SOXLBJT12A8C140925' 'Caught In A Dream' 'ARYKCQI1187FB3B18F' 2004\n",
      " 290.29832]\n",
      "['SOWTBJW12AC468AC6E' 'Broken-Down Merry-Go-Round' 'ARQGYP71187FB44566' 0\n",
      " 151.84934]\n",
      "['SOZVMJI12AB01808AF' 'Synthetic Dream' 'ARNPAGP1241B9C7FD4' 0 165.69424]\n",
      "['SOKEJEJ12A8C13E0D0' 'The Urgency (LP Version)' 'ARC43071187B990240' 0\n",
      " 245.21098]\n",
      "['SOBEBDG12A58A76D60' 'Kassie Jones' 'ARI3BMM1187FB4255E' 0 220.78649]\n",
      "['SOBONFF12A6D4F84D8' 'Tonight Will Be Alright' 'ARIK43K1187B9AE54C' 1986\n",
      " 307.3824]\n",
      "['SOOLYAZ12A6701F4A6' 'Laws Patrolling (Album Version)'\n",
      " 'AREBBGV1187FB523D2' 0 173.66159]\n",
      "['SOGNCJP12A58A80271' 'Do You Finally Need A Friend' 'ARB29H41187B98F0EF'\n",
      " 1972 342.56934]\n",
      "['SONYPOM12A8C13B2D7' 'I Think My Wife Is Running Around On Me (Taco Hell)'\n",
      " 'ARDNS031187B9924F0' 2005 186.48771]\n",
      "['SOBBUGU12A8C13E95D' 'Setting Fire to Sleeping Giants'\n",
      " 'ARMAC4T1187FB3FA4C' 2004 207.77751]\n",
      "['SOGXHEG12AB018653E' 'It Makes No Difference Now' 'AR0RCMP1187FB3F427'\n",
      " 1992 133.32853]\n",
      "['SOBLGCN12AB0183212' 'James (Hold The Ladder Steady)' 'AR47JEX1187B995D81'\n",
      " 1985 124.86485]\n",
      "['SOZQDIU12A58A7BCF6' 'Superconfidential' 'ARNTLGG11E2835DDB9' 0 338.31138]\n",
      "['SOVYKGO12AB0187199' 'Crazy Mixed Up World' 'ARH4Z031187B9A71F2' 1961\n",
      " 156.39465]\n",
      "['SOPSWQW12A6D4F8781' 'Made Like This (Live)' 'ARGIWFO1187B9B55B7' 0\n",
      " 225.09669]\n",
      "['SOZCTXZ12AB0182364' 'Setanta matins' 'AR5KOSW1187FB35FF4' 0 269.58322]\n",
      "['SOLLHMX12AB01846DC' 'The Emperor Falls' 'AR1Y2PT1187FB5B9CE' 0 484.62322]\n",
      "['SOBZBAZ12A6D4F8742' 'Spanish Grease' 'AROUOZZ1187B9ABE51' 1997 168.25424]\n",
      "['SOYTPEP12AB0180E7B' 'Twist and Shout' 'ARAJPHH1187FB5566A' 1964 164.80608]\n",
      "['SOGOSOV12AF72A285E' '¿Dónde va Chichi?' 'ARGUVEV1187B98BA17' 1997\n",
      " 313.12934]\n",
      "['SOZHPGD12A8C1394FE' 'Baby Come To Me' 'AR9AWNF1187B9AB0B4' 0 236.93016]\n",
      "['SOMVWWT12A58A7AE05' 'Knocked Out Of The Park' 'ARQ9BO41187FB5CF1F' 0\n",
      " 183.17016]\n",
      "['SOTUKVB12AB0181477' 'Blessed Assurance' 'AR7ZKHQ1187B98DD73' 1993 270.602]\n",
      "['SOTTDKS12AB018D69B' 'It Wont Be Christmas' 'ARMBR4Y1187B9990EB' 0\n",
      " 241.47546]\n",
      "['SODUJBS12A8C132150' 'Wessex Loses a Bride' 'ARI2JSK1187FB496EF' 0\n",
      " 111.62077]\n",
      "['SOQVMXR12A81C21483' 'Salt In NYC' 'ARKULSX1187FB45F84' 0 424.12363]\n",
      "['SOPVXLX12A8C1402D5' 'Larger Than Life' 'AR3JMC51187B9AE49D' 1999\n",
      " 236.25098]\n",
      "['SOBBXLX12A58A79DDA' 'Erica (2005 Digital Remaster)' 'AREDBBQ1187B98AFF5'\n",
      " 0 138.63138]\n",
      "['SOQLGFP12A58A7800E' 'OAKtown' 'ARD7TVE1187B99BFB1' 0 259.44771]\n",
      "['SOSLAVG12A8C13397F' 'Den Pai Alo' 'AROGWRA122988FEE45' 0 243.82649]\n",
      "['SOAOIBZ12AB01815BE'\n",
      " 'I Hold Your Hand In Mine [Live At Royal Albert Hall]'\n",
      " 'ARPBNLO1187FB3D52F' 2000 43.36281]\n",
      "['SOPEGZN12AB0181B3D' 'Get Your Head Stuck On Your Neck'\n",
      " 'AREDL271187FB40F44' 0 45.66159]\n",
      "['SOXILUQ12A58A7C72A' 'Jenny Take a Ride' 'ARP6N5A1187B99D1A3' 2004\n",
      " 207.43791]\n",
      "['SOOJPRH12A8C141995' 'Loaded Like A Gun' 'ARBGXIG122988F409D' 0 173.19138]\n",
      "['SOTCKKY12AB018A141' 'Sonnerie lalaleulé hi houuu' 'ARGSAFR1269FB35070' 0\n",
      " 29.54404]\n",
      "['SOGVQGJ12AB017F169' 'Ten Tonne' 'AR62SOJ1187FB47BB5' 2005 337.68444]\n",
      "['SOBAYLL12A8C138AF9' 'Sono andati? Fingevo di dormire'\n",
      " 'ARDR4AC1187FB371A1' 0 511.16363]\n",
      "['SOFFKZS12AB017F194' 'A Higher Place (Album Version)' 'ARBEBBY1187B9B43DB'\n",
      " 1994 236.17261]\n",
      "['SOFNOQK12AB01840FC' 'Kutt Free (DJ Volume Remix)' 'ARNNKDK1187B98BBD5' 0\n",
      " 407.37914]\n",
      "['SOBCOSW12A8C13D398' 'Rumba De Barcelona' 'AR7SMBG1187B9B9066' 0 218.38322]\n",
      "['SOQOTLQ12AB01868D0' 'Clementina Santafè' 'ARGCY1Y1187B9A4FA5' 0 153.33832]\n",
      "['SOBKWDJ12A8C13B2F3' 'Wild Rose (Back 2 Basics Mix)' 'AR36F9J1187FB406F1'\n",
      " 0 230.71302]\n",
      "['SOLEYHO12AB0188A85' 'Got My Mojo Workin' 'ARAGB2O1187FB3A161' 0 338.23302]\n",
      "['SOUPIRU12A6D4FA1E1' 'Der Kleine Dompfaff' 'ARJIE2Y1187B994AB7' 0\n",
      " 152.92036]\n",
      "['SORRZGD12A6310DBC3' 'Harajuku Girls' 'ARVBRGZ1187FB4675A' 2004 290.55955]\n",
      "['SOGDBUF12A8C140FAA' 'Intro' 'AR558FS1187FB45658' 2003 75.67628]\n",
      "['SONWXQJ12A8C134D94' 'The Ballad Of Sleeping Beauty' 'ARNF6401187FB57032'\n",
      " 1994 305.162]\n",
      "['SONSKXP12A8C13A2C9' 'Native Soul' 'AR0IAWL1187B9A96D0' 2003 197.19791]\n",
      "['SOLYIBD12A8C135045' 'Music is what we love' 'AR051KA1187B98B2FF' 0\n",
      " 261.51138]\n",
      "['SODAUVL12A8C13D184' 'Prognosis' 'ARWB3G61187FB49404' 2000 363.85914]\n",
      "['SOSWKAV12AB018FC91' 'Midnight Star' 'ARULZCI1241B9C8611' 0 335.51628]\n",
      "['SODREIN12A58A7F2E5' 'A Whiter Shade Of Pale (Live @ Fillmore West)'\n",
      " 'ARLTWXK1187FB5A3F8' 0 326.00771]\n",
      "['SOWQTQZ12A58A7B63E' 'Streets On Fire (Explicit Album Version)'\n",
      " 'ARPFHN61187FB575F6' 0 279.97995]\n",
      "['SOINLJW12A8C13314C' 'City Slickers' 'AR8IEZO1187B99055E' 2008 149.86404]\n",
      "['SOFCHDR12AB01866EF' 'Living Hell' 'AREVWGE1187B9B890A' 0 282.43546]\n"
     ]
    }
   ],
   "source": [
    "song_files = get_files('./data/song_data/')\n",
    "for file in song_files:\n",
    "    #print(file)\n",
    "    df = pd.read_json(file, lines=True)\n",
    "    song_datas = df.filter(items=['song_id', 'title', 'artist_id', 'year', 'duration']).values\n",
    "    song_data = song_datas.tolist()\n",
    "    for song_data in song_datas:\n",
    "        try:\n",
    "            cur.execute(song_table_insert, song_data)\n",
    "            print(song_data)\n",
    "        except Exception as e:\n",
    "            print (e.pgerror)"
   ]
  },
  {
   "cell_type": "code",
   "execution_count": 11,
   "metadata": {
    "editable": true
   },
   "outputs": [],
   "source": [
    "conn.commit()"
   ]
  },
  {
   "cell_type": "markdown",
   "metadata": {
    "editable": true
   },
   "source": [
    "Run `test.ipynb` to see if you've successfully added a record to this table."
   ]
  },
  {
   "cell_type": "markdown",
   "metadata": {
    "editable": true
   },
   "source": [
    "## #2: `artists` Table\n",
    "#### Extract Data for Artists Table\n",
    "- Select columns for artist ID, name, location, latitude, and longitude\n",
    "- Use `df.values` to select just the values from the dataframe\n",
    "- Index to select the first (only) record in the dataframe\n",
    "- Convert the array to a list and set it to `artist_data`"
   ]
  },
  {
   "cell_type": "code",
   "execution_count": 12,
   "metadata": {
    "editable": true
   },
   "outputs": [],
   "source": [
    "# insert artist record\n",
    "artist_datas = df.filter(items=['artist_id', 'artist_name', 'artist_latitude', 'artist_longitude','artist_location' ])\n",
    "artist_datas = artist_datas.values.tolist()"
   ]
  },
  {
   "cell_type": "markdown",
   "metadata": {
    "editable": true
   },
   "source": [
    "#### Insert Record into Artist Table\n",
    "Implement the `artist_table_insert` query in `sql_queries.py` and run the cell below to insert a record for this song's artist into the `artists` table. Remember to run `create_tables.py` before running the cell below to ensure you've created/resetted the `artists` table in the sparkify database."
   ]
  },
  {
   "cell_type": "code",
   "execution_count": 13,
   "metadata": {
    "editable": true
   },
   "outputs": [],
   "source": [
    "song_files = get_files('./data/song_data/')\n",
    "for file in song_files:\n",
    "    #print(file)\n",
    "    df = pd.read_json(file, lines=True)\n",
    "    artist_datas = df.filter(items=['artist_id', 'artist_name', 'artist_latitude', 'artist_longitude','artist_location' ])\n",
    "    artist_datas = artist_datas.values.tolist()\n",
    "    for artist_data in artist_datas:\n",
    "        try:\n",
    "            cur.execute(artist_table_insert, artist_data)\n",
    "        except Exception as e:\n",
    "            print (e.pgerror)"
   ]
  },
  {
   "cell_type": "code",
   "execution_count": 14,
   "metadata": {
    "editable": true
   },
   "outputs": [],
   "source": [
    "conn.commit()"
   ]
  },
  {
   "cell_type": "markdown",
   "metadata": {
    "editable": true
   },
   "source": [
    "Run `test.ipynb` to see if you've successfully added a record to this table."
   ]
  },
  {
   "cell_type": "markdown",
   "metadata": {
    "editable": true
   },
   "source": [
    "# Process `log_data`\n",
    "In this part, you'll perform ETL on the second dataset, `log_data`, to create the `time` and `users` dimensional tables, as well as the `songplays` fact table.\n",
    "\n",
    "Let's perform ETL on a single log file and load a single record into each table.\n",
    "- Use the `get_files` function provided above to get a list of all log JSON files in `data/log_data`\n",
    "- Select the first log file in this list\n",
    "- Read the log file and view the data"
   ]
  },
  {
   "cell_type": "code",
   "execution_count": 15,
   "metadata": {
    "editable": true
   },
   "outputs": [
    {
     "data": {
      "text/plain": [
       "'/home/workspace/data/log_data/2018/11/2018-11-11-events.json'"
      ]
     },
     "execution_count": 15,
     "metadata": {},
     "output_type": "execute_result"
    }
   ],
   "source": [
    "log_files = get_files('./data/log_data/')\n",
    "log_files[1]"
   ]
  },
  {
   "cell_type": "code",
   "execution_count": 16,
   "metadata": {
    "editable": true
   },
   "outputs": [],
   "source": [
    "filepath = log_files[1]"
   ]
  },
  {
   "cell_type": "code",
   "execution_count": 17,
   "metadata": {
    "editable": true
   },
   "outputs": [
    {
     "data": {
      "text/html": [
       "<div>\n",
       "<style scoped>\n",
       "    .dataframe tbody tr th:only-of-type {\n",
       "        vertical-align: middle;\n",
       "    }\n",
       "\n",
       "    .dataframe tbody tr th {\n",
       "        vertical-align: top;\n",
       "    }\n",
       "\n",
       "    .dataframe thead th {\n",
       "        text-align: right;\n",
       "    }\n",
       "</style>\n",
       "<table border=\"1\" class=\"dataframe\">\n",
       "  <thead>\n",
       "    <tr style=\"text-align: right;\">\n",
       "      <th></th>\n",
       "      <th>artist</th>\n",
       "      <th>auth</th>\n",
       "      <th>firstName</th>\n",
       "      <th>gender</th>\n",
       "      <th>itemInSession</th>\n",
       "      <th>lastName</th>\n",
       "      <th>length</th>\n",
       "      <th>level</th>\n",
       "      <th>location</th>\n",
       "      <th>method</th>\n",
       "      <th>page</th>\n",
       "      <th>registration</th>\n",
       "      <th>sessionId</th>\n",
       "      <th>song</th>\n",
       "      <th>status</th>\n",
       "      <th>ts</th>\n",
       "      <th>userAgent</th>\n",
       "      <th>userId</th>\n",
       "    </tr>\n",
       "  </thead>\n",
       "  <tbody>\n",
       "    <tr>\n",
       "      <th>0</th>\n",
       "      <td>Frumpies</td>\n",
       "      <td>Logged In</td>\n",
       "      <td>Anabelle</td>\n",
       "      <td>F</td>\n",
       "      <td>0</td>\n",
       "      <td>Simpson</td>\n",
       "      <td>134.47791</td>\n",
       "      <td>free</td>\n",
       "      <td>Philadelphia-Camden-Wilmington, PA-NJ-DE-MD</td>\n",
       "      <td>PUT</td>\n",
       "      <td>NextSong</td>\n",
       "      <td>1.541044e+12</td>\n",
       "      <td>455</td>\n",
       "      <td>Fuck Kitty</td>\n",
       "      <td>200</td>\n",
       "      <td>1541903636796</td>\n",
       "      <td>\"Mozilla/5.0 (Macintosh; Intel Mac OS X 10_9_4...</td>\n",
       "      <td>69</td>\n",
       "    </tr>\n",
       "    <tr>\n",
       "      <th>1</th>\n",
       "      <td>Kenny G with Peabo Bryson</td>\n",
       "      <td>Logged In</td>\n",
       "      <td>Anabelle</td>\n",
       "      <td>F</td>\n",
       "      <td>1</td>\n",
       "      <td>Simpson</td>\n",
       "      <td>264.75057</td>\n",
       "      <td>free</td>\n",
       "      <td>Philadelphia-Camden-Wilmington, PA-NJ-DE-MD</td>\n",
       "      <td>PUT</td>\n",
       "      <td>NextSong</td>\n",
       "      <td>1.541044e+12</td>\n",
       "      <td>455</td>\n",
       "      <td>By The Time This Night Is Over</td>\n",
       "      <td>200</td>\n",
       "      <td>1541903770796</td>\n",
       "      <td>\"Mozilla/5.0 (Macintosh; Intel Mac OS X 10_9_4...</td>\n",
       "      <td>69</td>\n",
       "    </tr>\n",
       "    <tr>\n",
       "      <th>2</th>\n",
       "      <td>Biffy Clyro</td>\n",
       "      <td>Logged In</td>\n",
       "      <td>Anabelle</td>\n",
       "      <td>F</td>\n",
       "      <td>2</td>\n",
       "      <td>Simpson</td>\n",
       "      <td>189.83138</td>\n",
       "      <td>free</td>\n",
       "      <td>Philadelphia-Camden-Wilmington, PA-NJ-DE-MD</td>\n",
       "      <td>PUT</td>\n",
       "      <td>NextSong</td>\n",
       "      <td>1.541044e+12</td>\n",
       "      <td>455</td>\n",
       "      <td>God &amp; Satan</td>\n",
       "      <td>200</td>\n",
       "      <td>1541904034796</td>\n",
       "      <td>\"Mozilla/5.0 (Macintosh; Intel Mac OS X 10_9_4...</td>\n",
       "      <td>69</td>\n",
       "    </tr>\n",
       "  </tbody>\n",
       "</table>\n",
       "</div>"
      ],
      "text/plain": [
       "                      artist       auth firstName gender  itemInSession  \\\n",
       "0                   Frumpies  Logged In  Anabelle      F              0   \n",
       "1  Kenny G with Peabo Bryson  Logged In  Anabelle      F              1   \n",
       "2                Biffy Clyro  Logged In  Anabelle      F              2   \n",
       "\n",
       "  lastName     length level                                     location  \\\n",
       "0  Simpson  134.47791  free  Philadelphia-Camden-Wilmington, PA-NJ-DE-MD   \n",
       "1  Simpson  264.75057  free  Philadelphia-Camden-Wilmington, PA-NJ-DE-MD   \n",
       "2  Simpson  189.83138  free  Philadelphia-Camden-Wilmington, PA-NJ-DE-MD   \n",
       "\n",
       "  method      page  registration  sessionId                            song  \\\n",
       "0    PUT  NextSong  1.541044e+12        455                      Fuck Kitty   \n",
       "1    PUT  NextSong  1.541044e+12        455  By The Time This Night Is Over   \n",
       "2    PUT  NextSong  1.541044e+12        455                     God & Satan   \n",
       "\n",
       "   status             ts                                          userAgent  \\\n",
       "0     200  1541903636796  \"Mozilla/5.0 (Macintosh; Intel Mac OS X 10_9_4...   \n",
       "1     200  1541903770796  \"Mozilla/5.0 (Macintosh; Intel Mac OS X 10_9_4...   \n",
       "2     200  1541904034796  \"Mozilla/5.0 (Macintosh; Intel Mac OS X 10_9_4...   \n",
       "\n",
       "  userId  \n",
       "0     69  \n",
       "1     69  \n",
       "2     69  "
      ]
     },
     "execution_count": 17,
     "metadata": {},
     "output_type": "execute_result"
    }
   ],
   "source": [
    "df = pd.read_json(filepath, lines=True)\n",
    "df.head(3)"
   ]
  },
  {
   "cell_type": "code",
   "execution_count": 18,
   "metadata": {
    "editable": true
   },
   "outputs": [
    {
     "data": {
      "text/plain": [
       "(95, 18)"
      ]
     },
     "execution_count": 18,
     "metadata": {},
     "output_type": "execute_result"
    }
   ],
   "source": [
    "df.shape"
   ]
  },
  {
   "cell_type": "markdown",
   "metadata": {
    "editable": true
   },
   "source": [
    "## #3: `time` Table\n",
    "#### Extract Data for Time Table\n",
    "- Filter records by `NextSong` action\n",
    "- Convert the `ts` timestamp column to datetime\n",
    "  - Hint: the current timestamp is in milliseconds\n",
    "- Extract the timestamp, hour, day, week of year, month, year, and weekday from the `ts` column and set `time_data` to a list containing these values in order\n",
    "  - Hint: use pandas' [`dt` attribute](https://pandas.pydata.org/pandas-docs/stable/reference/api/pandas.Series.dt.html) to access easily datetimelike properties.\n",
    "- Specify labels for these columns and set to `column_labels`\n",
    "- Create a dataframe, `time_df,` containing the time data for this file by combining `column_labels` and `time_data` into a dictionary and converting this into a dataframe"
   ]
  },
  {
   "cell_type": "code",
   "execution_count": 19,
   "metadata": {
    "editable": true
   },
   "outputs": [
    {
     "data": {
      "text/html": [
       "<div>\n",
       "<style scoped>\n",
       "    .dataframe tbody tr th:only-of-type {\n",
       "        vertical-align: middle;\n",
       "    }\n",
       "\n",
       "    .dataframe tbody tr th {\n",
       "        vertical-align: top;\n",
       "    }\n",
       "\n",
       "    .dataframe thead th {\n",
       "        text-align: right;\n",
       "    }\n",
       "</style>\n",
       "<table border=\"1\" class=\"dataframe\">\n",
       "  <thead>\n",
       "    <tr style=\"text-align: right;\">\n",
       "      <th></th>\n",
       "      <th>artist</th>\n",
       "      <th>auth</th>\n",
       "      <th>firstName</th>\n",
       "      <th>gender</th>\n",
       "      <th>itemInSession</th>\n",
       "      <th>lastName</th>\n",
       "      <th>length</th>\n",
       "      <th>level</th>\n",
       "      <th>location</th>\n",
       "      <th>method</th>\n",
       "      <th>page</th>\n",
       "      <th>registration</th>\n",
       "      <th>sessionId</th>\n",
       "      <th>song</th>\n",
       "      <th>status</th>\n",
       "      <th>ts</th>\n",
       "      <th>userAgent</th>\n",
       "      <th>userId</th>\n",
       "    </tr>\n",
       "  </thead>\n",
       "  <tbody>\n",
       "    <tr>\n",
       "      <th>0</th>\n",
       "      <td>Frumpies</td>\n",
       "      <td>Logged In</td>\n",
       "      <td>Anabelle</td>\n",
       "      <td>F</td>\n",
       "      <td>0</td>\n",
       "      <td>Simpson</td>\n",
       "      <td>134.47791</td>\n",
       "      <td>free</td>\n",
       "      <td>Philadelphia-Camden-Wilmington, PA-NJ-DE-MD</td>\n",
       "      <td>PUT</td>\n",
       "      <td>NextSong</td>\n",
       "      <td>1.541044e+12</td>\n",
       "      <td>455</td>\n",
       "      <td>Fuck Kitty</td>\n",
       "      <td>200</td>\n",
       "      <td>1541903636796</td>\n",
       "      <td>\"Mozilla/5.0 (Macintosh; Intel Mac OS X 10_9_4...</td>\n",
       "      <td>69</td>\n",
       "    </tr>\n",
       "    <tr>\n",
       "      <th>1</th>\n",
       "      <td>Kenny G with Peabo Bryson</td>\n",
       "      <td>Logged In</td>\n",
       "      <td>Anabelle</td>\n",
       "      <td>F</td>\n",
       "      <td>1</td>\n",
       "      <td>Simpson</td>\n",
       "      <td>264.75057</td>\n",
       "      <td>free</td>\n",
       "      <td>Philadelphia-Camden-Wilmington, PA-NJ-DE-MD</td>\n",
       "      <td>PUT</td>\n",
       "      <td>NextSong</td>\n",
       "      <td>1.541044e+12</td>\n",
       "      <td>455</td>\n",
       "      <td>By The Time This Night Is Over</td>\n",
       "      <td>200</td>\n",
       "      <td>1541903770796</td>\n",
       "      <td>\"Mozilla/5.0 (Macintosh; Intel Mac OS X 10_9_4...</td>\n",
       "      <td>69</td>\n",
       "    </tr>\n",
       "    <tr>\n",
       "      <th>2</th>\n",
       "      <td>Biffy Clyro</td>\n",
       "      <td>Logged In</td>\n",
       "      <td>Anabelle</td>\n",
       "      <td>F</td>\n",
       "      <td>2</td>\n",
       "      <td>Simpson</td>\n",
       "      <td>189.83138</td>\n",
       "      <td>free</td>\n",
       "      <td>Philadelphia-Camden-Wilmington, PA-NJ-DE-MD</td>\n",
       "      <td>PUT</td>\n",
       "      <td>NextSong</td>\n",
       "      <td>1.541044e+12</td>\n",
       "      <td>455</td>\n",
       "      <td>God &amp; Satan</td>\n",
       "      <td>200</td>\n",
       "      <td>1541904034796</td>\n",
       "      <td>\"Mozilla/5.0 (Macintosh; Intel Mac OS X 10_9_4...</td>\n",
       "      <td>69</td>\n",
       "    </tr>\n",
       "  </tbody>\n",
       "</table>\n",
       "</div>"
      ],
      "text/plain": [
       "                      artist       auth firstName gender  itemInSession  \\\n",
       "0                   Frumpies  Logged In  Anabelle      F              0   \n",
       "1  Kenny G with Peabo Bryson  Logged In  Anabelle      F              1   \n",
       "2                Biffy Clyro  Logged In  Anabelle      F              2   \n",
       "\n",
       "  lastName     length level                                     location  \\\n",
       "0  Simpson  134.47791  free  Philadelphia-Camden-Wilmington, PA-NJ-DE-MD   \n",
       "1  Simpson  264.75057  free  Philadelphia-Camden-Wilmington, PA-NJ-DE-MD   \n",
       "2  Simpson  189.83138  free  Philadelphia-Camden-Wilmington, PA-NJ-DE-MD   \n",
       "\n",
       "  method      page  registration  sessionId                            song  \\\n",
       "0    PUT  NextSong  1.541044e+12        455                      Fuck Kitty   \n",
       "1    PUT  NextSong  1.541044e+12        455  By The Time This Night Is Over   \n",
       "2    PUT  NextSong  1.541044e+12        455                     God & Satan   \n",
       "\n",
       "   status             ts                                          userAgent  \\\n",
       "0     200  1541903636796  \"Mozilla/5.0 (Macintosh; Intel Mac OS X 10_9_4...   \n",
       "1     200  1541903770796  \"Mozilla/5.0 (Macintosh; Intel Mac OS X 10_9_4...   \n",
       "2     200  1541904034796  \"Mozilla/5.0 (Macintosh; Intel Mac OS X 10_9_4...   \n",
       "\n",
       "  userId  \n",
       "0     69  \n",
       "1     69  \n",
       "2     69  "
      ]
     },
     "execution_count": 19,
     "metadata": {},
     "output_type": "execute_result"
    }
   ],
   "source": [
    "df = df.loc[df['page'] == 'NextSong']\n",
    "df.head(3)"
   ]
  },
  {
   "cell_type": "code",
   "execution_count": 20,
   "metadata": {
    "editable": true
   },
   "outputs": [
    {
     "data": {
      "text/plain": [
       "(73, 18)"
      ]
     },
     "execution_count": 20,
     "metadata": {},
     "output_type": "execute_result"
    }
   ],
   "source": [
    "df.shape"
   ]
  },
  {
   "cell_type": "code",
   "execution_count": 21,
   "metadata": {
    "editable": true
   },
   "outputs": [
    {
     "data": {
      "text/plain": [
       "0   2018-11-11 02:33:56.796\n",
       "1   2018-11-11 02:36:10.796\n",
       "2   2018-11-11 02:40:34.796\n",
       "4   2018-11-11 04:36:13.796\n",
       "5   2018-11-11 04:36:46.796\n",
       "Name: ts, dtype: datetime64[ns]"
      ]
     },
     "execution_count": 21,
     "metadata": {},
     "output_type": "execute_result"
    }
   ],
   "source": [
    "t = pd.to_datetime(df['ts'], unit='ms')\n",
    "t.head()"
   ]
  },
  {
   "cell_type": "code",
   "execution_count": 22,
   "metadata": {
    "editable": true
   },
   "outputs": [],
   "source": [
    "time_data = (df['ts'],\n",
    "             t.dt.hour,\n",
    "             t.dt.day,\n",
    "             t.dt.week,\n",
    "             t.dt.month,\n",
    "             t.dt.year,\n",
    "             t.dt.weekday\n",
    "            )\n",
    "column_labels = ('timestamp',\n",
    "                 'hour',\n",
    "                 'day',\n",
    "                 'week',\n",
    "                 'month',\n",
    "                 'year',\n",
    "                 'weekday'\n",
    "            )"
   ]
  },
  {
   "cell_type": "code",
   "execution_count": 23,
   "metadata": {
    "editable": true
   },
   "outputs": [
    {
     "data": {
      "text/html": [
       "<div>\n",
       "<style scoped>\n",
       "    .dataframe tbody tr th:only-of-type {\n",
       "        vertical-align: middle;\n",
       "    }\n",
       "\n",
       "    .dataframe tbody tr th {\n",
       "        vertical-align: top;\n",
       "    }\n",
       "\n",
       "    .dataframe thead th {\n",
       "        text-align: right;\n",
       "    }\n",
       "</style>\n",
       "<table border=\"1\" class=\"dataframe\">\n",
       "  <thead>\n",
       "    <tr style=\"text-align: right;\">\n",
       "      <th></th>\n",
       "      <th>timestamp</th>\n",
       "      <th>hour</th>\n",
       "      <th>day</th>\n",
       "      <th>week</th>\n",
       "      <th>month</th>\n",
       "      <th>year</th>\n",
       "      <th>weekday</th>\n",
       "    </tr>\n",
       "  </thead>\n",
       "  <tbody>\n",
       "    <tr>\n",
       "      <th>0</th>\n",
       "      <td>1541903636796</td>\n",
       "      <td>2</td>\n",
       "      <td>11</td>\n",
       "      <td>45</td>\n",
       "      <td>11</td>\n",
       "      <td>2018</td>\n",
       "      <td>6</td>\n",
       "    </tr>\n",
       "    <tr>\n",
       "      <th>1</th>\n",
       "      <td>1541903770796</td>\n",
       "      <td>2</td>\n",
       "      <td>11</td>\n",
       "      <td>45</td>\n",
       "      <td>11</td>\n",
       "      <td>2018</td>\n",
       "      <td>6</td>\n",
       "    </tr>\n",
       "    <tr>\n",
       "      <th>2</th>\n",
       "      <td>1541904034796</td>\n",
       "      <td>2</td>\n",
       "      <td>11</td>\n",
       "      <td>45</td>\n",
       "      <td>11</td>\n",
       "      <td>2018</td>\n",
       "      <td>6</td>\n",
       "    </tr>\n",
       "    <tr>\n",
       "      <th>4</th>\n",
       "      <td>1541910973796</td>\n",
       "      <td>4</td>\n",
       "      <td>11</td>\n",
       "      <td>45</td>\n",
       "      <td>11</td>\n",
       "      <td>2018</td>\n",
       "      <td>6</td>\n",
       "    </tr>\n",
       "    <tr>\n",
       "      <th>5</th>\n",
       "      <td>1541911006796</td>\n",
       "      <td>4</td>\n",
       "      <td>11</td>\n",
       "      <td>45</td>\n",
       "      <td>11</td>\n",
       "      <td>2018</td>\n",
       "      <td>6</td>\n",
       "    </tr>\n",
       "  </tbody>\n",
       "</table>\n",
       "</div>"
      ],
      "text/plain": [
       "       timestamp  hour  day  week  month  year  weekday\n",
       "0  1541903636796     2   11    45     11  2018        6\n",
       "1  1541903770796     2   11    45     11  2018        6\n",
       "2  1541904034796     2   11    45     11  2018        6\n",
       "4  1541910973796     4   11    45     11  2018        6\n",
       "5  1541911006796     4   11    45     11  2018        6"
      ]
     },
     "execution_count": 23,
     "metadata": {},
     "output_type": "execute_result"
    }
   ],
   "source": [
    "time_df = pd.DataFrame.from_dict({ col:vals for col, vals in zip(column_labels,time_data)})\n",
    "time_df.head()"
   ]
  },
  {
   "cell_type": "markdown",
   "metadata": {
    "editable": true
   },
   "source": [
    "#### Insert Records into Time Table\n",
    "Implement the `time_table_insert` query in `sql_queries.py` and run the cell below to insert records for the timestamps in this log file into the `time` table. Remember to run `create_tables.py` before running the cell below to ensure you've created/resetted the `time` table in the sparkify database."
   ]
  },
  {
   "cell_type": "code",
   "execution_count": 24,
   "metadata": {
    "editable": true
   },
   "outputs": [],
   "source": [
    "for i, row in time_df.iterrows():\n",
    "    cur.execute(time_table_insert, list(row))\n",
    "    conn.commit()"
   ]
  },
  {
   "cell_type": "markdown",
   "metadata": {
    "editable": true
   },
   "source": [
    "Run `test.ipynb` to see if you've successfully added records to this table."
   ]
  },
  {
   "cell_type": "markdown",
   "metadata": {
    "editable": true
   },
   "source": [
    "## #4: `users` Table\n",
    "#### Extract Data for Users Table\n",
    "- Select columns for user ID, first name, last name, gender and level and set to `user_df`"
   ]
  },
  {
   "cell_type": "code",
   "execution_count": 25,
   "metadata": {
    "editable": true
   },
   "outputs": [
    {
     "data": {
      "text/html": [
       "<div>\n",
       "<style scoped>\n",
       "    .dataframe tbody tr th:only-of-type {\n",
       "        vertical-align: middle;\n",
       "    }\n",
       "\n",
       "    .dataframe tbody tr th {\n",
       "        vertical-align: top;\n",
       "    }\n",
       "\n",
       "    .dataframe thead th {\n",
       "        text-align: right;\n",
       "    }\n",
       "</style>\n",
       "<table border=\"1\" class=\"dataframe\">\n",
       "  <thead>\n",
       "    <tr style=\"text-align: right;\">\n",
       "      <th></th>\n",
       "      <th>userId</th>\n",
       "      <th>firstName</th>\n",
       "      <th>lastName</th>\n",
       "      <th>gender</th>\n",
       "      <th>level</th>\n",
       "    </tr>\n",
       "  </thead>\n",
       "  <tbody>\n",
       "    <tr>\n",
       "      <th>0</th>\n",
       "      <td>69</td>\n",
       "      <td>Anabelle</td>\n",
       "      <td>Simpson</td>\n",
       "      <td>F</td>\n",
       "      <td>free</td>\n",
       "    </tr>\n",
       "    <tr>\n",
       "      <th>1</th>\n",
       "      <td>69</td>\n",
       "      <td>Anabelle</td>\n",
       "      <td>Simpson</td>\n",
       "      <td>F</td>\n",
       "      <td>free</td>\n",
       "    </tr>\n",
       "    <tr>\n",
       "      <th>2</th>\n",
       "      <td>69</td>\n",
       "      <td>Anabelle</td>\n",
       "      <td>Simpson</td>\n",
       "      <td>F</td>\n",
       "      <td>free</td>\n",
       "    </tr>\n",
       "  </tbody>\n",
       "</table>\n",
       "</div>"
      ],
      "text/plain": [
       "  userId firstName lastName gender level\n",
       "0     69  Anabelle  Simpson      F  free\n",
       "1     69  Anabelle  Simpson      F  free\n",
       "2     69  Anabelle  Simpson      F  free"
      ]
     },
     "execution_count": 25,
     "metadata": {},
     "output_type": "execute_result"
    }
   ],
   "source": [
    "user_df = df.filter(items=['userId', 'firstName', 'lastName','gender','level'])\n",
    "user_df.head(3)"
   ]
  },
  {
   "cell_type": "markdown",
   "metadata": {
    "editable": true
   },
   "source": [
    "#### Insert Records into Users Table\n",
    "Implement the `user_table_insert` query in `sql_queries.py` and run the cell below to insert records for the users in this log file into the `users` table. Remember to run `create_tables.py` before running the cell below to ensure you've created/resetted the `users` table in the sparkify database."
   ]
  },
  {
   "cell_type": "code",
   "execution_count": 26,
   "metadata": {
    "editable": true
   },
   "outputs": [],
   "source": [
    "for i, row in user_df.iterrows():\n",
    "    cur.execute(user_table_insert, row)\n",
    "    conn.commit()"
   ]
  },
  {
   "cell_type": "markdown",
   "metadata": {
    "editable": true
   },
   "source": [
    "Run `test.ipynb` to see if you've successfully added records to this table."
   ]
  },
  {
   "cell_type": "markdown",
   "metadata": {
    "editable": true
   },
   "source": [
    "## #5: `songplays` Table\n",
    "#### Extract Data and Songplays Table\n",
    "This one is a little more complicated since information from the songs table, artists table, and original log file are all needed for the `songplays` table. Since the log file does not specify an ID for either the song or the artist, you'll need to get the song ID and artist ID by querying the songs and artists tables to find matches based on song title, artist name, and song duration time.\n",
    "- Implement the `song_select` query in `sql_queries.py` to find the song ID and artist ID based on the title, artist name, and duration of a song.\n",
    "- Select the timestamp, user ID, level, song ID, artist ID, session ID, location, and user agent and set to `songplay_data`\n",
    "\n",
    "#### Insert Records into Songplays Table\n",
    "- Implement the `songplay_table_insert` query and run the cell below to insert records for the songplay actions in this log file into the `songplays` table. Remember to run `create_tables.py` before running the cell below to ensure you've created/resetted the `songplays` table in the sparkify database."
   ]
  },
  {
   "cell_type": "code",
   "execution_count": 27,
   "metadata": {
    "editable": true
   },
   "outputs": [
    {
     "name": "stdout",
     "output_type": "stream",
     "text": [
      "not found ('Fuck Kitty', 'Frumpies', 134.47791)\n",
      "not found ('By The Time This Night Is Over', 'Kenny G with Peabo Bryson', 264.75057)\n",
      "not found ('God & Satan', 'Biffy Clyro', 189.83138)\n",
      "not found ('Beautiful', 'HIM', 212.06159)\n",
      "not found ('Supreme Balloon', 'Matmos', 1449.11628)\n",
      "not found ('The One', 'Gary Allan', 259.83955)\n",
      "not found ('Five Roses', 'Miracle Fortress', 200.9073)\n",
      "not found ('Cuentale', 'Don Omar', 261.35465)\n",
      "not found (\"D'Evils\", 'Jay-Z', 212.27057)\n",
      "not found ('Easily (Album Version)', 'Red Hot Chili Peppers', 231.33995)\n",
      "not found ('Rebels of the Sacred Heart', 'Flogging Molly', 361.9522)\n",
      "not found ('Now_ Right Now', 'Reverend Horton Heat', 158.64118)\n",
      "not found ('I Made A Resolution', 'Sea Wolf', 232.61995)\n",
      "not found ('Lucky (Album Version)', 'Jason Mraz & Colbie Caillat', 189.6224)\n",
      "not found ('Enough\\x19s Enough', 'Jamie Lidell', 175.25506)\n",
      "not found ('Mushaboom (Postal Service Mix)', 'Feist', 212.79302)\n",
      "not found (\"We're Going Out Tonight\", 'Sex Slaves', 175.51628)\n",
      "not found ('To Them These Streets Belong', 'Rise Against', 169.482)\n",
      "not found ('Get Me Bodied', 'BeyoncÃ\\x83Â©', 359.54893)\n",
      "not found ('Never Leave Me Alone', 'Nate Dogg', 356.38812)\n",
      "not found ('Love Story', 'Taylor Swift', 233.89995)\n",
      "not found ('Sweet home Alabama', 'Lynyrd Skynyrd', 216.60689)\n",
      "not found ('Caught Out There (Explicit)', 'Kelis', 293.58975)\n",
      "not found ('Last Day Of Magic', 'The Kills', 203.38893)\n",
      "not found ('What A Feeling', 'Collie Buddz featuring Paul Wall', 271.62077)\n",
      "not found ('Fireflies', 'Charttraxx Karaoke', 225.17506)\n",
      "not found ('The Funeral (Album Version)', 'Band Of Horses', 321.14893)\n",
      "not found ('Clocks', 'Coldplay', 307.51302)\n",
      "not found ('Have A Nice Day', 'Bon Jovi', 228.75383)\n",
      "not found ('Alive (2006 Remastered Album Version)', 'P.O.D.', 203.7024)\n",
      "not found ('Plans (Replanned by Mogwai)', 'Bloc Party', 222.04036)\n",
      "not found ('Pa Pa Pa', 'Los Prisioneros', 211.12118)\n",
      "not found ('Lots More Stairs', 'Octopus Project', 175.25506)\n",
      "not found ('Ecoute Ce Scratch', 'Roudoudou', 18.41587)\n",
      "not found ('Tierra Tradicional', 'Africando', 253.54404)\n",
      "not found ('Simmons Incorporated', 'RUN-DMC Featuring Method Man_ Kenny Cash_ Mike Ransom_ and Jamel Simmons', 266.52689)\n",
      "not found (\"I'm Goin' Away\", 'Graham Coxon', 197.14567)\n",
      "not found ('In The Fade', 'Queens Of The Stone Age', 231.02649)\n",
      "not found ('Strawberry AndrÃ\\x83Â© (Album Version)', 'Dance Gavin Dance', 193.30567)\n",
      "not found ('Eyes As Candles', 'Passion Pit', 243.69587)\n",
      "not found (\"Let's Get It Started\", 'Black Eyed Peas', 229.61587)\n",
      "not found ('Ca plane pour moi', 'Plastic Bertrand', 180.00934)\n",
      "not found ('Strange Brew', 'Cream', 166.5824)\n",
      "not found ('A Message', 'Coldplay', 284.39465)\n",
      "not found ('Sweat the Battle Before the Battle Sweats You (Album Version)', 'Cute Is What We Aim For', 172.22485)\n",
      "not found ('Of Wolf And Man', 'Metallica', 256.9922)\n",
      "not found ('Tape Song', 'The Kills', 217.70404)\n",
      "not found ('The Pretender', 'Foo Fighters', 271.38567)\n",
      "not found ('Eyen [Chosen by fans on Warp20.net]', 'Plaid', 260.96281)\n",
      "not found (\"It's New To Me\", 'The Van Pelt', 208.71791)\n",
      "not found ('Make You Smile', '+44', 224.57424)\n",
      "not found ('I May Never Find', 'Chris Brown', 275.1473)\n",
      "not found ('Black Horse And The Cherry Tree (Radio Version)', 'KT Tunstall', 170.47465)\n",
      "not found ('Kids In America', 'Cascada', 184.39791)\n",
      "not found ('Black Heart Inertia', 'Incubus', 293.38077)\n",
      "not found ('Black & Blue', 'Miike Snow', 220.83873)\n",
      "not found ('Sala De RecepÃ\\x83Â§Ã\\x83Â£o', 'Cartola', 208.92689)\n",
      "not found ('Commander In Thief', 'Kill The Client', 70.68689)\n",
      "not found ('Woman', 'Wolfmother', 175.82975)\n",
      "not found ('Wagon Wheel', 'Old Crow Medicine Show', 231.73179)\n",
      "not found ('Debbie', 'Architecture In Helsinki', 173.73995)\n",
      "not found (\"I Think I'll Live\", 'Charlie Louvin', 170.86649)\n",
      "not found ('La Derrota de Un Don Juan', 'Miguel Morales', 270.78485)\n",
      "not found ('Le Courage Des Oiseaux', 'Dominique A', 153.20771)\n",
      "not found ('Run With The Blind', 'Cock Sparrer', 203.25832)\n",
      "not found ('I Love You So Much It Hurts', 'Jimmy Wakely', 165.74649)\n",
      "not found ('A Little Death Around the Eyes', 'Peter Doherty', 217.02485)\n",
      "not found ('Thinking Of You', 'Katy Perry', 246.41261)\n",
      "not found ('You Love Me Anyway (Album)', 'Sidewalk Prophets', 260.62322)\n",
      "not found ('Torches', 'Rise Against', 221.17832)\n",
      "not found (\"Wavin'  Flag\", \"K'Naan\", 220.49914)\n",
      "not found ('Holiday', 'Patrick Jumpen', 208.87465)\n",
      "not found ('Empire State Of Mind (Part II) Broken Down', 'Alicia Keys', 216.47628)\n"
     ]
    }
   ],
   "source": [
    "for index, row in df.iterrows():\n",
    "\n",
    "    # get songid and artistid from song and artist tables\n",
    "    cur.execute(song_select, (\n",
    "        row.song,\n",
    "        row.artist,\n",
    "        row.length\n",
    "    ))\n",
    "    results = cur.fetchone()\n",
    "    \n",
    "    if results:\n",
    "        songid, artistid = results\n",
    "    else:\n",
    "        songid, artistid = None, None\n",
    "        print('not found', (\n",
    "            row.song,\n",
    "            row.artist,\n",
    "            row.length\n",
    "        ))\n",
    "        \n",
    "    # insert songplay record\n",
    "    songplay_data = (\n",
    "        row.ts,\n",
    "        row.userId,\n",
    "        row.level,\n",
    "        songid,\n",
    "        artistid,\n",
    "        row.sessionId,\n",
    "        row.location,\n",
    "        row.userAgent\n",
    "    )\n",
    "    try:\n",
    "        cur.execute(songplay_table_insert, songplay_data)\n",
    "    except Exception as e:\n",
    "        print (e.pgerror)\n",
    "        print(songplay_data)\n",
    "    conn.commit()"
   ]
  },
  {
   "cell_type": "code",
   "execution_count": 28,
   "metadata": {
    "editable": true
   },
   "outputs": [
    {
     "data": {
      "text/plain": [
       "'\\nSELECT song_id, songs.artist_id \\nFROM songs JOIN artists ON artists.artist_id = songs.artist_id \\nWHERE songs.title = %s\\n AND  artists.name = %s\\n AND  songs.duration = %s\\n'"
      ]
     },
     "execution_count": 28,
     "metadata": {},
     "output_type": "execute_result"
    }
   ],
   "source": [
    "song_select"
   ]
  },
  {
   "cell_type": "code",
   "execution_count": 29,
   "metadata": {
    "editable": true
   },
   "outputs": [],
   "source": [
    "cur.execute(song_select, (\n",
    "    'The Pretender',\n",
    "    'Foo Fighters',\n",
    "    271.38567\n",
    "))"
   ]
  },
  {
   "cell_type": "code",
   "execution_count": 30,
   "metadata": {
    "editable": true
   },
   "outputs": [],
   "source": [
    "results = cur.fetchone()\n",
    "results"
   ]
  },
  {
   "cell_type": "markdown",
   "metadata": {
    "editable": true
   },
   "source": [
    "Run `test.ipynb` to see if you've successfully added records to this table."
   ]
  },
  {
   "cell_type": "markdown",
   "metadata": {
    "editable": true
   },
   "source": [
    "# Close Connection to Sparkify Database"
   ]
  },
  {
   "cell_type": "code",
   "execution_count": 31,
   "metadata": {
    "editable": true
   },
   "outputs": [],
   "source": [
    "conn.close()"
   ]
  },
  {
   "cell_type": "markdown",
   "metadata": {
    "editable": true
   },
   "source": [
    "# Implement `etl.py`\n",
    "Use what you've completed in this notebook to implement `etl.py`."
   ]
  }
 ],
 "metadata": {
  "kernelspec": {
   "display_name": "Python 3",
   "language": "python",
   "name": "python3"
  },
  "language_info": {
   "codemirror_mode": {
    "name": "ipython",
    "version": 3
   },
   "file_extension": ".py",
   "mimetype": "text/x-python",
   "name": "python",
   "nbconvert_exporter": "python",
   "pygments_lexer": "ipython3",
   "version": "3.6.3"
  }
 },
 "nbformat": 4,
 "nbformat_minor": 4
}
